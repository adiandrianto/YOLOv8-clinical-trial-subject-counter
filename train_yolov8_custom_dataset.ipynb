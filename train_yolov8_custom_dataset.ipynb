{
 "cells": [
  {
   "cell_type": "markdown",
   "id": "02a1b934-c7e1-45f6-8c6d-a4f7e5420a64",
   "metadata": {},
   "source": [
    "### install dependencies"
   ]
  },
  {
   "cell_type": "code",
   "execution_count": null,
   "id": "fc991a1f",
   "metadata": {},
   "outputs": [],
   "source": [
    "!pip install ultralytics"
   ]
  },
  {
   "cell_type": "markdown",
   "id": "6ae2c0aa-b913-4df9-bb4b-6b3bddb1de33",
   "metadata": {},
   "source": []
  },
  {
   "cell_type": "code",
   "execution_count": null,
   "id": "df1ffae3",
   "metadata": {},
   "outputs": [],
   "source": [
    "from ultralytics import YOLO\n",
    " \n",
    "# Load the model.\n",
    "model = YOLO('yolov8s.pt')   # choose yolov8small for faster training\n",
    " \n",
    "# Training.\n",
    "results = model.train(\n",
    "    data='dataset/data.yaml',\n",
    "    imgsz=800,\n",
    "    epochs=50,\n",
    "    batch=16,\n",
    "    name='yolov8s_custom',\n",
    "    plots=True\n",
    ")"
   ]
  },
  {
   "cell_type": "code",
   "execution_count": null,
   "id": "554a1831",
   "metadata": {},
   "outputs": [],
   "source": []
  }
 ],
 "metadata": {
  "kernelspec": {
   "display_name": "object-detection",
   "language": "python",
   "name": "object-detection"
  },
  "language_info": {
   "codemirror_mode": {
    "name": "ipython",
    "version": 3
   },
   "file_extension": ".py",
   "mimetype": "text/x-python",
   "name": "python",
   "nbconvert_exporter": "python",
   "pygments_lexer": "ipython3",
   "version": "3.10.13"
  }
 },
 "nbformat": 4,
 "nbformat_minor": 5
}
